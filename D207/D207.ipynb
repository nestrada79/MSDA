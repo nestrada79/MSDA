{
  "nbformat": 4,
  "nbformat_minor": 0,
  "metadata": {
    "colab": {
      "provenance": [],
      "authorship_tag": "ABX9TyNACo50uUPlvGVIOW5wK7Ot",
      "include_colab_link": true
    },
    "kernelspec": {
      "name": "python3",
      "display_name": "Python 3"
    },
    "language_info": {
      "name": "python"
    }
  },
  "cells": [
    {
      "cell_type": "markdown",
      "metadata": {
        "id": "view-in-github",
        "colab_type": "text"
      },
      "source": [
        "<a href=\"https://colab.research.google.com/github/nestrada79/MSDA/blob/main/D207/D207.ipynb\" target=\"_parent\"><img src=\"https://colab.research.google.com/assets/colab-badge.svg\" alt=\"Open In Colab\"/></a>"
      ]
    },
    {
      "cell_type": "code",
      "execution_count": null,
      "metadata": {
        "id": "codI4Qm-alBV"
      },
      "outputs": [],
      "source": []
    },
    {
      "cell_type": "code",
      "source": [
        "#Import Statements\n",
        "import pandas as pd"
      ],
      "metadata": {
        "id": "nDoKHiTg8e5A"
      },
      "execution_count": null,
      "outputs": []
    },
    {
      "cell_type": "code",
      "source": [
        "#Loaded cleaned dataset from csv\n",
        "df = pd.read_csv('/content/medical_cleaned_V2.csv')"
      ],
      "metadata": {
        "id": "oVtjZ5n98R4-"
      },
      "execution_count": null,
      "outputs": []
    },
    {
      "cell_type": "code",
      "source": [
        "#Verify dataframe has loaded correctly\n",
        "df.head()"
      ],
      "metadata": {
        "colab": {
          "base_uri": "https://localhost:8080/",
          "height": 384
        },
        "id": "9UZMSGU58jlm",
        "outputId": "4eca40b1-767e-4a37-a390-d7a14d05b4d8"
      },
      "execution_count": null,
      "outputs": [
        {
          "output_type": "execute_result",
          "data": {
            "text/plain": [
              "   Unnamed: 0  CaseOrder Customer_id                           Interaction  \\\n",
              "0           1          1     C412403  8cd49b13-f45a-4b47-a2bd-173ffa932c2f   \n",
              "1           2          2     Z919181  d2450b70-0337-4406-bdbb-bc1037f1734c   \n",
              "2           3          3     F995323  a2057123-abf5-4a2c-abad-8ffe33512562   \n",
              "3           4          4     A879973  1dec528d-eb34-4079-adce-0d7a40e82205   \n",
              "4           5          5     C544523  5885f56b-d6da-43a3-8760-83583af94266   \n",
              "\n",
              "                                UID          City State        County    Zip  \\\n",
              "0  3a83ddb66e2ae73798bdf1d705dc0932           Eva    AL        Morgan  35621   \n",
              "1  176354c5eef714957d486009feabf195      Marianna    FL       Jackson  32446   \n",
              "2  e19a0fa00aeda885b8a436757e889bc9   Sioux Falls    SD     Minnehaha  57110   \n",
              "3  cd17d7b6d152cb6f23957346d11c3f07  New Richland    MN        Waseca  56072   \n",
              "4  d2f0425877b10ed6bb381f3e2579424a    West Point    VA  King William  23181   \n",
              "\n",
              "        Lat  ...  TotalCharge  Additional_charges Item1 Item2 Item3  Item4  \\\n",
              "0  34.34960  ...      3191.05            17939.40     3     3     2      2   \n",
              "1  30.84513  ...      4214.91            17613.00     3     4     3      4   \n",
              "2  43.54321  ...      2177.59            17505.19     2     4     4      4   \n",
              "3  43.89744  ...      2465.12            12993.44     3     5     5      3   \n",
              "4  37.59894  ...      1885.66             3716.53     2     1     3      3   \n",
              "\n",
              "   Item5 Item6 Item7  Item8  \n",
              "0      4     3     3      4  \n",
              "1      4     4     3      3  \n",
              "2      3     4     3      3  \n",
              "3      4     5     5      5  \n",
              "4      5     3     4      3  \n",
              "\n",
              "[5 rows x 53 columns]"
            ],
            "text/html": [
              "\n",
              "\n",
              "  <div id=\"df-841edebb-30b4-41d4-a708-458d44292efa\">\n",
              "    <div class=\"colab-df-container\">\n",
              "      <div>\n",
              "<style scoped>\n",
              "    .dataframe tbody tr th:only-of-type {\n",
              "        vertical-align: middle;\n",
              "    }\n",
              "\n",
              "    .dataframe tbody tr th {\n",
              "        vertical-align: top;\n",
              "    }\n",
              "\n",
              "    .dataframe thead th {\n",
              "        text-align: right;\n",
              "    }\n",
              "</style>\n",
              "<table border=\"1\" class=\"dataframe\">\n",
              "  <thead>\n",
              "    <tr style=\"text-align: right;\">\n",
              "      <th></th>\n",
              "      <th>Unnamed: 0</th>\n",
              "      <th>CaseOrder</th>\n",
              "      <th>Customer_id</th>\n",
              "      <th>Interaction</th>\n",
              "      <th>UID</th>\n",
              "      <th>City</th>\n",
              "      <th>State</th>\n",
              "      <th>County</th>\n",
              "      <th>Zip</th>\n",
              "      <th>Lat</th>\n",
              "      <th>...</th>\n",
              "      <th>TotalCharge</th>\n",
              "      <th>Additional_charges</th>\n",
              "      <th>Item1</th>\n",
              "      <th>Item2</th>\n",
              "      <th>Item3</th>\n",
              "      <th>Item4</th>\n",
              "      <th>Item5</th>\n",
              "      <th>Item6</th>\n",
              "      <th>Item7</th>\n",
              "      <th>Item8</th>\n",
              "    </tr>\n",
              "  </thead>\n",
              "  <tbody>\n",
              "    <tr>\n",
              "      <th>0</th>\n",
              "      <td>1</td>\n",
              "      <td>1</td>\n",
              "      <td>C412403</td>\n",
              "      <td>8cd49b13-f45a-4b47-a2bd-173ffa932c2f</td>\n",
              "      <td>3a83ddb66e2ae73798bdf1d705dc0932</td>\n",
              "      <td>Eva</td>\n",
              "      <td>AL</td>\n",
              "      <td>Morgan</td>\n",
              "      <td>35621</td>\n",
              "      <td>34.34960</td>\n",
              "      <td>...</td>\n",
              "      <td>3191.05</td>\n",
              "      <td>17939.40</td>\n",
              "      <td>3</td>\n",
              "      <td>3</td>\n",
              "      <td>2</td>\n",
              "      <td>2</td>\n",
              "      <td>4</td>\n",
              "      <td>3</td>\n",
              "      <td>3</td>\n",
              "      <td>4</td>\n",
              "    </tr>\n",
              "    <tr>\n",
              "      <th>1</th>\n",
              "      <td>2</td>\n",
              "      <td>2</td>\n",
              "      <td>Z919181</td>\n",
              "      <td>d2450b70-0337-4406-bdbb-bc1037f1734c</td>\n",
              "      <td>176354c5eef714957d486009feabf195</td>\n",
              "      <td>Marianna</td>\n",
              "      <td>FL</td>\n",
              "      <td>Jackson</td>\n",
              "      <td>32446</td>\n",
              "      <td>30.84513</td>\n",
              "      <td>...</td>\n",
              "      <td>4214.91</td>\n",
              "      <td>17613.00</td>\n",
              "      <td>3</td>\n",
              "      <td>4</td>\n",
              "      <td>3</td>\n",
              "      <td>4</td>\n",
              "      <td>4</td>\n",
              "      <td>4</td>\n",
              "      <td>3</td>\n",
              "      <td>3</td>\n",
              "    </tr>\n",
              "    <tr>\n",
              "      <th>2</th>\n",
              "      <td>3</td>\n",
              "      <td>3</td>\n",
              "      <td>F995323</td>\n",
              "      <td>a2057123-abf5-4a2c-abad-8ffe33512562</td>\n",
              "      <td>e19a0fa00aeda885b8a436757e889bc9</td>\n",
              "      <td>Sioux Falls</td>\n",
              "      <td>SD</td>\n",
              "      <td>Minnehaha</td>\n",
              "      <td>57110</td>\n",
              "      <td>43.54321</td>\n",
              "      <td>...</td>\n",
              "      <td>2177.59</td>\n",
              "      <td>17505.19</td>\n",
              "      <td>2</td>\n",
              "      <td>4</td>\n",
              "      <td>4</td>\n",
              "      <td>4</td>\n",
              "      <td>3</td>\n",
              "      <td>4</td>\n",
              "      <td>3</td>\n",
              "      <td>3</td>\n",
              "    </tr>\n",
              "    <tr>\n",
              "      <th>3</th>\n",
              "      <td>4</td>\n",
              "      <td>4</td>\n",
              "      <td>A879973</td>\n",
              "      <td>1dec528d-eb34-4079-adce-0d7a40e82205</td>\n",
              "      <td>cd17d7b6d152cb6f23957346d11c3f07</td>\n",
              "      <td>New Richland</td>\n",
              "      <td>MN</td>\n",
              "      <td>Waseca</td>\n",
              "      <td>56072</td>\n",
              "      <td>43.89744</td>\n",
              "      <td>...</td>\n",
              "      <td>2465.12</td>\n",
              "      <td>12993.44</td>\n",
              "      <td>3</td>\n",
              "      <td>5</td>\n",
              "      <td>5</td>\n",
              "      <td>3</td>\n",
              "      <td>4</td>\n",
              "      <td>5</td>\n",
              "      <td>5</td>\n",
              "      <td>5</td>\n",
              "    </tr>\n",
              "    <tr>\n",
              "      <th>4</th>\n",
              "      <td>5</td>\n",
              "      <td>5</td>\n",
              "      <td>C544523</td>\n",
              "      <td>5885f56b-d6da-43a3-8760-83583af94266</td>\n",
              "      <td>d2f0425877b10ed6bb381f3e2579424a</td>\n",
              "      <td>West Point</td>\n",
              "      <td>VA</td>\n",
              "      <td>King William</td>\n",
              "      <td>23181</td>\n",
              "      <td>37.59894</td>\n",
              "      <td>...</td>\n",
              "      <td>1885.66</td>\n",
              "      <td>3716.53</td>\n",
              "      <td>2</td>\n",
              "      <td>1</td>\n",
              "      <td>3</td>\n",
              "      <td>3</td>\n",
              "      <td>5</td>\n",
              "      <td>3</td>\n",
              "      <td>4</td>\n",
              "      <td>3</td>\n",
              "    </tr>\n",
              "  </tbody>\n",
              "</table>\n",
              "<p>5 rows × 53 columns</p>\n",
              "</div>\n",
              "      <button class=\"colab-df-convert\" onclick=\"convertToInteractive('df-841edebb-30b4-41d4-a708-458d44292efa')\"\n",
              "              title=\"Convert this dataframe to an interactive table.\"\n",
              "              style=\"display:none;\">\n",
              "\n",
              "  <svg xmlns=\"http://www.w3.org/2000/svg\" height=\"24px\"viewBox=\"0 0 24 24\"\n",
              "       width=\"24px\">\n",
              "    <path d=\"M0 0h24v24H0V0z\" fill=\"none\"/>\n",
              "    <path d=\"M18.56 5.44l.94 2.06.94-2.06 2.06-.94-2.06-.94-.94-2.06-.94 2.06-2.06.94zm-11 1L8.5 8.5l.94-2.06 2.06-.94-2.06-.94L8.5 2.5l-.94 2.06-2.06.94zm10 10l.94 2.06.94-2.06 2.06-.94-2.06-.94-.94-2.06-.94 2.06-2.06.94z\"/><path d=\"M17.41 7.96l-1.37-1.37c-.4-.4-.92-.59-1.43-.59-.52 0-1.04.2-1.43.59L10.3 9.45l-7.72 7.72c-.78.78-.78 2.05 0 2.83L4 21.41c.39.39.9.59 1.41.59.51 0 1.02-.2 1.41-.59l7.78-7.78 2.81-2.81c.8-.78.8-2.07 0-2.86zM5.41 20L4 18.59l7.72-7.72 1.47 1.35L5.41 20z\"/>\n",
              "  </svg>\n",
              "      </button>\n",
              "\n",
              "\n",
              "\n",
              "    <div id=\"df-b1990837-e866-4158-884f-c1fbe8490702\">\n",
              "      <button class=\"colab-df-quickchart\" onclick=\"quickchart('df-b1990837-e866-4158-884f-c1fbe8490702')\"\n",
              "              title=\"Suggest charts.\"\n",
              "              style=\"display:none;\">\n",
              "\n",
              "<svg xmlns=\"http://www.w3.org/2000/svg\" height=\"24px\"viewBox=\"0 0 24 24\"\n",
              "     width=\"24px\">\n",
              "    <g>\n",
              "        <path d=\"M19 3H5c-1.1 0-2 .9-2 2v14c0 1.1.9 2 2 2h14c1.1 0 2-.9 2-2V5c0-1.1-.9-2-2-2zM9 17H7v-7h2v7zm4 0h-2V7h2v10zm4 0h-2v-4h2v4z\"/>\n",
              "    </g>\n",
              "</svg>\n",
              "      </button>\n",
              "    </div>\n",
              "\n",
              "<style>\n",
              "  .colab-df-quickchart {\n",
              "    background-color: #E8F0FE;\n",
              "    border: none;\n",
              "    border-radius: 50%;\n",
              "    cursor: pointer;\n",
              "    display: none;\n",
              "    fill: #1967D2;\n",
              "    height: 32px;\n",
              "    padding: 0 0 0 0;\n",
              "    width: 32px;\n",
              "  }\n",
              "\n",
              "  .colab-df-quickchart:hover {\n",
              "    background-color: #E2EBFA;\n",
              "    box-shadow: 0px 1px 2px rgba(60, 64, 67, 0.3), 0px 1px 3px 1px rgba(60, 64, 67, 0.15);\n",
              "    fill: #174EA6;\n",
              "  }\n",
              "\n",
              "  [theme=dark] .colab-df-quickchart {\n",
              "    background-color: #3B4455;\n",
              "    fill: #D2E3FC;\n",
              "  }\n",
              "\n",
              "  [theme=dark] .colab-df-quickchart:hover {\n",
              "    background-color: #434B5C;\n",
              "    box-shadow: 0px 1px 3px 1px rgba(0, 0, 0, 0.15);\n",
              "    filter: drop-shadow(0px 1px 2px rgba(0, 0, 0, 0.3));\n",
              "    fill: #FFFFFF;\n",
              "  }\n",
              "</style>\n",
              "\n",
              "    <script>\n",
              "      async function quickchart(key) {\n",
              "        const containerElement = document.querySelector('#' + key);\n",
              "        const charts = await google.colab.kernel.invokeFunction(\n",
              "            'suggestCharts', [key], {});\n",
              "      }\n",
              "    </script>\n",
              "\n",
              "      <script>\n",
              "\n",
              "function displayQuickchartButton(domScope) {\n",
              "  let quickchartButtonEl =\n",
              "    domScope.querySelector('#df-b1990837-e866-4158-884f-c1fbe8490702 button.colab-df-quickchart');\n",
              "  quickchartButtonEl.style.display =\n",
              "    google.colab.kernel.accessAllowed ? 'block' : 'none';\n",
              "}\n",
              "\n",
              "        displayQuickchartButton(document);\n",
              "      </script>\n",
              "      <style>\n",
              "    .colab-df-container {\n",
              "      display:flex;\n",
              "      flex-wrap:wrap;\n",
              "      gap: 12px;\n",
              "    }\n",
              "\n",
              "    .colab-df-convert {\n",
              "      background-color: #E8F0FE;\n",
              "      border: none;\n",
              "      border-radius: 50%;\n",
              "      cursor: pointer;\n",
              "      display: none;\n",
              "      fill: #1967D2;\n",
              "      height: 32px;\n",
              "      padding: 0 0 0 0;\n",
              "      width: 32px;\n",
              "    }\n",
              "\n",
              "    .colab-df-convert:hover {\n",
              "      background-color: #E2EBFA;\n",
              "      box-shadow: 0px 1px 2px rgba(60, 64, 67, 0.3), 0px 1px 3px 1px rgba(60, 64, 67, 0.15);\n",
              "      fill: #174EA6;\n",
              "    }\n",
              "\n",
              "    [theme=dark] .colab-df-convert {\n",
              "      background-color: #3B4455;\n",
              "      fill: #D2E3FC;\n",
              "    }\n",
              "\n",
              "    [theme=dark] .colab-df-convert:hover {\n",
              "      background-color: #434B5C;\n",
              "      box-shadow: 0px 1px 3px 1px rgba(0, 0, 0, 0.15);\n",
              "      filter: drop-shadow(0px 1px 2px rgba(0, 0, 0, 0.3));\n",
              "      fill: #FFFFFF;\n",
              "    }\n",
              "  </style>\n",
              "\n",
              "      <script>\n",
              "        const buttonEl =\n",
              "          document.querySelector('#df-841edebb-30b4-41d4-a708-458d44292efa button.colab-df-convert');\n",
              "        buttonEl.style.display =\n",
              "          google.colab.kernel.accessAllowed ? 'block' : 'none';\n",
              "\n",
              "        async function convertToInteractive(key) {\n",
              "          const element = document.querySelector('#df-841edebb-30b4-41d4-a708-458d44292efa');\n",
              "          const dataTable =\n",
              "            await google.colab.kernel.invokeFunction('convertToInteractive',\n",
              "                                                     [key], {});\n",
              "          if (!dataTable) return;\n",
              "\n",
              "          const docLinkHtml = 'Like what you see? Visit the ' +\n",
              "            '<a target=\"_blank\" href=https://colab.research.google.com/notebooks/data_table.ipynb>data table notebook</a>'\n",
              "            + ' to learn more about interactive tables.';\n",
              "          element.innerHTML = '';\n",
              "          dataTable['output_type'] = 'display_data';\n",
              "          await google.colab.output.renderOutput(dataTable, element);\n",
              "          const docLink = document.createElement('div');\n",
              "          docLink.innerHTML = docLinkHtml;\n",
              "          element.appendChild(docLink);\n",
              "        }\n",
              "      </script>\n",
              "    </div>\n",
              "  </div>\n"
            ]
          },
          "metadata": {},
          "execution_count": 5
        }
      ]
    },
    {
      "cell_type": "markdown",
      "source": [
        "# **A. Real-world Organizational Situation or Issue**\n"
      ],
      "metadata": {
        "id": "g6UVDfFuap8j"
      }
    },
    {
      "cell_type": "markdown",
      "source": [
        "## **1. Relevant Question**\n"
      ],
      "metadata": {
        "id": "wNsmcjI7bHHA"
      }
    },
    {
      "cell_type": "markdown",
      "source": [
        "> Is there a significant difference in the total charges between patients with different levels of complication_risk?"
      ],
      "metadata": {
        "id": "dCRaHeQx2Az6"
      }
    },
    {
      "cell_type": "markdown",
      "source": [
        "## **2. Stakeholder Benefits**\n",
        "**Healthcare Providers (Hospitals, Clinics, Physicians)**<P>\n",
        "\n",
        "**Resource Allocation:** Understanding the costs involved with treating patients with varying complication risks can help in allocating resources more efficiently.<P>\n",
        "**Billing Strategy:** If certain risk groups are more expensive to treat, providers might adjust their billing strategies for procedures or treatments commonly associated with those risk levels.<P>\n",
        "**Treatment Protocols:** Providers can develop or refine treatment protocols and care pathways based on the financial impact and outcomes of treating different risk groups.<P>\n",
        "\n",
        "**Patients:**<P>\n",
        "\n",
        "**Informed Decision Making:** Patients can make better-informed decisions about treatments, procedures, or interventions knowing the potential financial implications based on their complication risk.<P>\n",
        "**Financial Planning:**  Patients can better plan for potential out-of-pocket expenses if they understand how their  risk for complications might impact their total charges.<P>\n",
        "\n",
        "**Insurance Companies:**<P>\n",
        "\n",
        "**Policy Pricing:** Insurance companies can adjust policy premiums based on the potential costs associated with treating patients of different complication risk levels. (Not currently legal under the ACA but maybe applicable in other countries)<P>\n",
        "**Negotiations with Providers:** By understanding the cost dynamics associated with complication risks, insurance companies might negotiate better rates or contracts with healthcare providers.<P>\n",
        "**Healthcare Policymakers and Regulators:** <P>\n",
        "\n",
        "**Healthcare Funding:** Policymakers can make informed decisions about healthcare funding allocation based on the financial dynamics of different complication risk levels.<P>\n",
        "**Regulations and Guidelines:** Regulatory bodies might develop or adjust guidelines, quality metrics, or reimbursement structures based on the findings.<P>\n"
      ],
      "metadata": {
        "id": "Gqd-pgRpbLNS"
      }
    },
    {
      "cell_type": "markdown",
      "source": [
        "## **3. Relevant Data Identification**\n",
        "| Variable Name     | Description                                               |\n",
        "|-------------------|-----------------------------------------------------------|\n",
        "| TotalCharge       | Represents the total charges for the medical service.     |\n",
        "| Complication_risk | Indicates the risk level of complications for the patient. |\n"
      ],
      "metadata": {
        "id": "jTA6ZIvhbLiX"
      }
    },
    {
      "cell_type": "markdown",
      "source": [
        "# **B. Data Analysis Description**\n"
      ],
      "metadata": {
        "id": "9lVtBCF2bmLI"
      }
    },
    {
      "cell_type": "markdown",
      "source": [
        "B.  Describe the data analysis by doing the following:\n",
        "\n",
        "1.  Using one of the following techniques, write code (in either Python or R) to run the analysis of the data set:\n",
        "\n",
        "•   chi-square\n",
        "\n",
        "•   t-test\n",
        "\n",
        "•   ANOVA\n",
        "\n",
        "2.  Provide the output and the results of any calculations from the analysis you performed.\n",
        "\n",
        "3.  Justify why you chose this analysis technique.\n"
      ],
      "metadata": {
        "id": "FEy-U28rbLoe"
      }
    },
    {
      "cell_type": "markdown",
      "source": [
        "## **1. Data Analysis Code**\n",
        "\n",
        "Choose one of the techniques: chi-square, t-test, or ANOVA\n"
      ],
      "metadata": {
        "id": "-wZ3Ppf6bLr3"
      }
    },
    {
      "cell_type": "markdown",
      "source": [
        "## **2. Output & Calculation Results**\n",
        "Display the outputs of the code.\n",
        "Discuss the result of the calculations.\n"
      ],
      "metadata": {
        "id": "wWx3IWR4bLvX"
      }
    },
    {
      "cell_type": "markdown",
      "source": [
        "## **3. Justification for Analysis Technique**\n",
        "Explain the rationale behind choosing the particular technique (chi-square, t-test, ANOVA)."
      ],
      "metadata": {
        "id": "B0oOHRwWcDmm"
      }
    },
    {
      "cell_type": "markdown",
      "source": [
        "# **C. Univariate Statistics**\n"
      ],
      "metadata": {
        "id": "vIvmrtO_fdtc"
      }
    },
    {
      "cell_type": "markdown",
      "source": [
        "Identify the distribution of two continuous variables and two categorical variables using univariate statistics from your cleaned and prepared data.\n",
        "\n",
        "Represent your findings in Part C, visually as part of your submission.\n",
        "\n",
        "\n",
        "Note: To draw a graph or visualization, you may use one or a combination of the following:\n",
        "\n",
        "- A spreadsheet program, such as Excel (*.xls)\n",
        "\n",
        "- A graphics program, such as Paint (*.jpeg, *.gif)\n",
        "\n",
        "- A word-processing program, such as Word (*.rtf)\n",
        "\n",
        "- A scanned hand-drawn graph (*.jpeg, *.gif)\n"
      ],
      "metadata": {
        "id": "EXtg5TS4fZ6h"
      }
    },
    {
      "cell_type": "markdown",
      "source": [
        "## **1. Distribution of Two Continuous Variables**\n",
        "\n",
        "Code to identify the distribution\n",
        "Visualization: Insert graphs or images showcasing the distribution of the continuous variables.\n"
      ],
      "metadata": {
        "id": "5ftmE5BifnPU"
      }
    },
    {
      "cell_type": "markdown",
      "source": [
        "\n",
        "## **2. Distribution of Two Categorical Variables**\n",
        "Code to identify the distribution\n",
        "Visualization: Insert graphs or images showcasing the distribution of the categorical variables."
      ],
      "metadata": {
        "id": "IYjYcUWGfncc"
      }
    },
    {
      "cell_type": "markdown",
      "source": [
        "# **D. Bivariate Statistics**\n"
      ],
      "metadata": {
        "id": "KYH_6PwPfng7"
      }
    },
    {
      "cell_type": "markdown",
      "source": [
        "## **1. Distribution of Two Continuous Variables**\n",
        "\n",
        "Code to identify the bivariate distribution\n",
        "Visualization: Insert graphs or images showcasing the bivariate distribution of the continuous variables.\n"
      ],
      "metadata": {
        "id": "U_EB8R_IgTEe"
      }
    },
    {
      "cell_type": "markdown",
      "source": [
        "## **2. Distribution of Two Categorical Variables**\n",
        " Code to identify the bivariate distribution\n",
        "Visualization: Insert graphs or images showcasing the bivariate distribution of the categorical variables."
      ],
      "metadata": {
        "id": "lnvg6ZeLgTIV"
      }
    },
    {
      "cell_type": "markdown",
      "source": [
        "# **E. Implications of Data Analysis**\n"
      ],
      "metadata": {
        "id": "OumG64iagTMQ"
      }
    },
    {
      "cell_type": "markdown",
      "source": [
        "## **1. Hypothesis Test Results**\n",
        "Discuss the outcomes of the hypothesis test.\n"
      ],
      "metadata": {
        "id": "NpEgxsP4gpCx"
      }
    },
    {
      "cell_type": "markdown",
      "source": [
        "## **2. Limitations**\n",
        "Detail the limitations encountered during the data analysis.\n"
      ],
      "metadata": {
        "id": "Jrz00kyCguQ3"
      }
    },
    {
      "cell_type": "markdown",
      "source": [
        "## **3. Recommendations**\n",
        "Offer potential courses of action based on analysis results."
      ],
      "metadata": {
        "id": "5QhMk9AcguWZ"
      }
    },
    {
      "cell_type": "markdown",
      "source": [
        "# **F. Panopto Video Recording**"
      ],
      "metadata": {
        "id": "x-UrUyhsguZj"
      }
    },
    {
      "cell_type": "markdown",
      "source": [
        "# **G. Code References**"
      ],
      "metadata": {
        "id": "puiLgmU9g9NA"
      }
    },
    {
      "cell_type": "markdown",
      "source": [
        "# **H. Citations & References**"
      ],
      "metadata": {
        "id": "GGIH8DNWg9WR"
      }
    }
  ]
}