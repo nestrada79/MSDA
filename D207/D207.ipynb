{
  "nbformat": 4,
  "nbformat_minor": 0,
  "metadata": {
    "colab": {
      "provenance": [],
      "authorship_tag": "ABX9TyNyr+K8ByO9AH8CcPCY4vBc",
      "include_colab_link": true
    },
    "kernelspec": {
      "name": "python3",
      "display_name": "Python 3"
    },
    "language_info": {
      "name": "python"
    }
  },
  "cells": [
    {
      "cell_type": "markdown",
      "metadata": {
        "id": "view-in-github",
        "colab_type": "text"
      },
      "source": [
        "<a href=\"https://colab.research.google.com/github/nestrada79/MSDA/blob/main/D207/D207.ipynb\" target=\"_parent\"><img src=\"https://colab.research.google.com/assets/colab-badge.svg\" alt=\"Open In Colab\"/></a>"
      ]
    },
    {
      "cell_type": "code",
      "execution_count": null,
      "metadata": {
        "id": "codI4Qm-alBV"
      },
      "outputs": [],
      "source": []
    },
    {
      "cell_type": "markdown",
      "source": [
        "# **A. Real-world Organizational Situation or Issue**\n"
      ],
      "metadata": {
        "id": "g6UVDfFuap8j"
      }
    },
    {
      "cell_type": "markdown",
      "source": [
        "A.  Describe a real-world organizational situation or issue in the Data Dictionary you chose, by doing the following:\n",
        "\n",
        "1.  Provide one question that is relevant to your chosen data set. You will answer this question later in the task through an analysis of the cleaned data, using one of the following techniques: chi-square, t-test, or analysis of variance (ANOVA).\n",
        "\n",
        "2.  Explain how stakeholders in the organization could benefit from an analysis of the data.\n",
        "\n",
        "3.  Identify all of the data in your data set that are relevant to answering your question in part A1.\n"
      ],
      "metadata": {
        "id": "DIzoEggQbYfv"
      }
    },
    {
      "cell_type": "markdown",
      "source": [
        "## **1. Relevant Question**\n",
        "Define the question related to the chosen data set.\n"
      ],
      "metadata": {
        "id": "wNsmcjI7bHHA"
      }
    },
    {
      "cell_type": "markdown",
      "source": [],
      "metadata": {
        "id": "gvwi16gZbX53"
      }
    },
    {
      "cell_type": "markdown",
      "source": [
        "## **2. Stakeholder Benefits**\n",
        "Explain the potential benefits for stakeholders when this data is analyzed.\n"
      ],
      "metadata": {
        "id": "Gqd-pgRpbLNS"
      }
    },
    {
      "cell_type": "markdown",
      "source": [
        "## **3. Relevant Data Identification**\n",
        "List out all data fields/columns that are relevant to answering the question mentioned in A1."
      ],
      "metadata": {
        "id": "jTA6ZIvhbLiX"
      }
    },
    {
      "cell_type": "markdown",
      "source": [
        "# **B. Data Analysis Description**\n"
      ],
      "metadata": {
        "id": "9lVtBCF2bmLI"
      }
    },
    {
      "cell_type": "markdown",
      "source": [
        "B.  Describe the data analysis by doing the following:\n",
        "\n",
        "1.  Using one of the following techniques, write code (in either Python or R) to run the analysis of the data set:\n",
        "\n",
        "•   chi-square\n",
        "\n",
        "•   t-test\n",
        "\n",
        "•   ANOVA\n",
        "\n",
        "2.  Provide the output and the results of any calculations from the analysis you performed.\n",
        "\n",
        "3.  Justify why you chose this analysis technique.\n"
      ],
      "metadata": {
        "id": "FEy-U28rbLoe"
      }
    },
    {
      "cell_type": "markdown",
      "source": [
        "## **1. Data Analysis Code**\n",
        "\n",
        "Choose one of the techniques: chi-square, t-test, or ANOVA\n"
      ],
      "metadata": {
        "id": "-wZ3Ppf6bLr3"
      }
    },
    {
      "cell_type": "markdown",
      "source": [
        "## **2. Output & Calculation Results**\n",
        "Display the outputs of the code.\n",
        "Discuss the result of the calculations.\n"
      ],
      "metadata": {
        "id": "wWx3IWR4bLvX"
      }
    },
    {
      "cell_type": "markdown",
      "source": [
        "## **3. Justification for Analysis Technique**\n",
        "Explain the rationale behind choosing the particular technique (chi-square, t-test, ANOVA)."
      ],
      "metadata": {
        "id": "B0oOHRwWcDmm"
      }
    },
    {
      "cell_type": "markdown",
      "source": [
        "# **C. Univariate Statistics**\n"
      ],
      "metadata": {
        "id": "vIvmrtO_fdtc"
      }
    },
    {
      "cell_type": "markdown",
      "source": [
        "Identify the distribution of two continuous variables and two categorical variables using univariate statistics from your cleaned and prepared data.\n",
        "\n",
        "Represent your findings in Part C, visually as part of your submission.\n",
        "\n",
        "\n",
        "Note: To draw a graph or visualization, you may use one or a combination of the following:\n",
        "\n",
        "- A spreadsheet program, such as Excel (*.xls)\n",
        "\n",
        "- A graphics program, such as Paint (*.jpeg, *.gif)\n",
        "\n",
        "- A word-processing program, such as Word (*.rtf)\n",
        "\n",
        "- A scanned hand-drawn graph (*.jpeg, *.gif)\n"
      ],
      "metadata": {
        "id": "EXtg5TS4fZ6h"
      }
    },
    {
      "cell_type": "markdown",
      "source": [
        "## **1. Distribution of Two Continuous Variables**\n",
        "\n",
        "Code to identify the distribution\n",
        "Visualization: Insert graphs or images showcasing the distribution of the continuous variables.\n"
      ],
      "metadata": {
        "id": "5ftmE5BifnPU"
      }
    },
    {
      "cell_type": "markdown",
      "source": [
        "\n",
        "## **2. Distribution of Two Categorical Variables**\n",
        "Code to identify the distribution\n",
        "Visualization: Insert graphs or images showcasing the distribution of the categorical variables."
      ],
      "metadata": {
        "id": "IYjYcUWGfncc"
      }
    },
    {
      "cell_type": "markdown",
      "source": [
        "# **D. Bivariate Statistics**\n"
      ],
      "metadata": {
        "id": "KYH_6PwPfng7"
      }
    },
    {
      "cell_type": "markdown",
      "source": [
        "## **1. Distribution of Two Continuous Variables**\n",
        "\n",
        "Code to identify the bivariate distribution\n",
        "Visualization: Insert graphs or images showcasing the bivariate distribution of the continuous variables.\n"
      ],
      "metadata": {
        "id": "U_EB8R_IgTEe"
      }
    },
    {
      "cell_type": "markdown",
      "source": [
        "## **2. Distribution of Two Categorical Variables**\n",
        " Code to identify the bivariate distribution\n",
        "Visualization: Insert graphs or images showcasing the bivariate distribution of the categorical variables."
      ],
      "metadata": {
        "id": "lnvg6ZeLgTIV"
      }
    },
    {
      "cell_type": "markdown",
      "source": [
        "# **E. Implications of Data Analysis**\n"
      ],
      "metadata": {
        "id": "OumG64iagTMQ"
      }
    },
    {
      "cell_type": "markdown",
      "source": [
        "## **1. Hypothesis Test Results**\n",
        "Discuss the outcomes of the hypothesis test.\n"
      ],
      "metadata": {
        "id": "NpEgxsP4gpCx"
      }
    },
    {
      "cell_type": "markdown",
      "source": [
        "## **2. Limitations**\n",
        "Detail the limitations encountered during the data analysis.\n"
      ],
      "metadata": {
        "id": "Jrz00kyCguQ3"
      }
    },
    {
      "cell_type": "markdown",
      "source": [
        "## **3. Recommendations**\n",
        "Offer potential courses of action based on analysis results."
      ],
      "metadata": {
        "id": "5QhMk9AcguWZ"
      }
    },
    {
      "cell_type": "markdown",
      "source": [
        "# **F. Panopto Video Recording**"
      ],
      "metadata": {
        "id": "x-UrUyhsguZj"
      }
    },
    {
      "cell_type": "markdown",
      "source": [
        "# **G. Code References**"
      ],
      "metadata": {
        "id": "puiLgmU9g9NA"
      }
    },
    {
      "cell_type": "markdown",
      "source": [
        "# **H. Citations & References**"
      ],
      "metadata": {
        "id": "GGIH8DNWg9WR"
      }
    }
  ]
}