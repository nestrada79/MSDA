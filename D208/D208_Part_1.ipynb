{
  "nbformat": 4,
  "nbformat_minor": 0,
  "metadata": {
    "colab": {
      "provenance": [],
      "authorship_tag": "ABX9TyMM15xi1O4yRVr2GoN8DS0O",
      "include_colab_link": true
    },
    "kernelspec": {
      "name": "python3",
      "display_name": "Python 3"
    },
    "language_info": {
      "name": "python"
    }
  },
  "cells": [
    {
      "cell_type": "markdown",
      "metadata": {
        "id": "view-in-github",
        "colab_type": "text"
      },
      "source": [
        "<a href=\"https://colab.research.google.com/github/nestrada79/MSDA/blob/main/D208/D208_Part_1.ipynb\" target=\"_parent\"><img src=\"https://colab.research.google.com/assets/colab-badge.svg\" alt=\"Open In Colab\"/></a>"
      ]
    },
    {
      "cell_type": "markdown",
      "source": [
        "# Part I: Research Question"
      ],
      "metadata": {
        "id": "4TmsywhcT3Vx"
      }
    },
    {
      "cell_type": "markdown",
      "source": [
        "## A. Purpose of Data Analysis"
      ],
      "metadata": {
        "id": "qskc2ypoT3aM"
      }
    },
    {
      "cell_type": "markdown",
      "source": [
        "### 1. Research Question Relevance\n",
        "- Summarize one research question related to a real-world organizational situation from the chosen dataset. This question should be suitable for multiple linear regression in the initial model.\n"
      ],
      "metadata": {
        "id": "7P-7gf33T3eG"
      }
    },
    {
      "cell_type": "markdown",
      "source": [
        "### 2. Goals of Data Analysis\n",
        "- Define the objectives of the data analysis. Ensure the goals align with the research question and the dataset's available information."
      ],
      "metadata": {
        "id": "cV0qqZD0T3gJ"
      }
    },
    {
      "cell_type": "markdown",
      "source": [
        "---\n",
        "\n"
      ],
      "metadata": {
        "id": "J2zvkg1ET3jv"
      }
    },
    {
      "cell_type": "markdown",
      "source": [
        "# Part II: Method Justification\n"
      ],
      "metadata": {
        "id": "MlXM-LHBT3m4"
      }
    },
    {
      "cell_type": "markdown",
      "source": [
        "## B. Multiple Linear Regression Methods"
      ],
      "metadata": {
        "id": "E7G4rWTAT3qB"
      }
    },
    {
      "cell_type": "markdown",
      "source": [
        "### 1. Assumptions of Multiple Linear Regression\n",
        "- List and explain four core assumptions of a multiple linear regression model.\n"
      ],
      "metadata": {
        "id": "-49cgmtCT3s8"
      }
    },
    {
      "cell_type": "markdown",
      "source": [
        "### 2. Benefits of Python or R\n",
        "- Outline two advantages of utilizing Python or R during various stages of the analysis.\n"
      ],
      "metadata": {
        "id": "7MfAq8_MT3v_"
      }
    },
    {
      "cell_type": "markdown",
      "source": [
        "### 3. Suitability of Multiple Linear Regression\n",
        "- Justify the use of multiple linear regression for analyzing the research question from Part I.\n"
      ],
      "metadata": {
        "id": "v-rpxwRtX5RQ"
      }
    },
    {
      "cell_type": "markdown",
      "source": [
        "---\n",
        "\n",
        "# Part III: Data Preparation"
      ],
      "metadata": {
        "id": "Qr3xDHW5X5U1"
      }
    },
    {
      "cell_type": "markdown",
      "source": [
        "## C. Data Preparation Process\n",
        "\n"
      ],
      "metadata": {
        "id": "wrSScRdpX5YT"
      }
    },
    {
      "cell_type": "markdown",
      "source": [
        "### 1. Data Cleaning Goals and Steps\n",
        "- Define the objectives for data cleaning and outline the steps taken, including annotated code.\n"
      ],
      "metadata": {
        "id": "flahhWcHX5bP"
      }
    },
    {
      "cell_type": "markdown",
      "source": [
        "### 2. Variables' Summary Statistics\n",
        "- Present a detailed summary of the dependent and independent variables. Include a snapshot of the output."
      ],
      "metadata": {
        "id": "dO_fTv-zX5en"
      }
    },
    {
      "cell_type": "markdown",
      "source": [
        "### 3. Data Visualizations\n",
        "- Showcase univariate and bivariate visualizations for the dependent and independent variables."
      ],
      "metadata": {
        "id": "-imnBM-RX5ik"
      }
    },
    {
      "cell_type": "markdown",
      "source": [
        "\n",
        "### 4. Data Transformation Goals and Steps\n",
        "- Describe the aims of data transformation and the actions taken, accompanied by annotated code."
      ],
      "metadata": {
        "id": "e-83of2IYJs1"
      }
    },
    {
      "cell_type": "markdown",
      "source": [
        "### 5. Prepared Data Set\n",
        "- Supply the cleaned and prepared dataset in CSV format."
      ],
      "metadata": {
        "id": "OomklYI8YLjU"
      }
    },
    {
      "cell_type": "markdown",
      "source": [
        "---\n"
      ],
      "metadata": {
        "id": "y4Xd4w7jYN_3"
      }
    },
    {
      "cell_type": "markdown",
      "source": [
        "# Part IV: Model Comparison and Analysis"
      ],
      "metadata": {
        "id": "nGvZjiu5YPMM"
      }
    },
    {
      "cell_type": "markdown",
      "source": [
        "## D. Linear Regression Model Comparison"
      ],
      "metadata": {
        "id": "5iQa_OwhYlbL"
      }
    },
    {
      "cell_type": "markdown",
      "source": [
        "### 1. Initial Multiple Linear Regression Model\n",
        "- Construct the initial model using all identified independent variables from Part C2."
      ],
      "metadata": {
        "id": "xH8f9NHbYmSE"
      }
    },
    {
      "cell_type": "markdown",
      "source": [
        "### 2. Feature Selection or Model Evaluation Justification\n",
        "- Explain and justify the approach chosen to refine the initial model, ensuring it aligns with the research question."
      ],
      "metadata": {
        "id": "dcJtjkfXYoEW"
      }
    },
    {
      "cell_type": "markdown",
      "source": [
        "### 3. Reduced Linear Regression Model\n",
        "- Present a concise linear regression model following the procedure from Part D2. Include a snapshot of the model's output."
      ],
      "metadata": {
        "id": "DKYYZqZaYptG"
      }
    },
    {
      "cell_type": "markdown",
      "source": [
        "## E. Reduced Linear Regression Model Analysis"
      ],
      "metadata": {
        "id": "qzQHI9PnYrRv"
      }
    },
    {
      "cell_type": "markdown",
      "source": [
        "### 1. Data Analysis Process\n",
        "- Compare the initial and reduced linear regression models, emphasizing a model evaluation metric."
      ],
      "metadata": {
        "id": "aU8NqmS-YtI3"
      }
    },
    {
      "cell_type": "markdown",
      "source": [
        "### 2. Analysis Output and Calculations\n",
        "- Showcase the output and calculations for the reduced model, including a residual plot and the model’s residual standard error."
      ],
      "metadata": {
        "id": "zqcuvPcjYuss"
      }
    },
    {
      "cell_type": "markdown",
      "source": [
        "### 3. Code for Linear Regression Models\n",
        "- Provide a fault-free, executable copy of the code used in Python or R."
      ],
      "metadata": {
        "id": "MgXzvcEKYwcP"
      }
    },
    {
      "cell_type": "markdown",
      "source": [
        "---"
      ],
      "metadata": {
        "id": "AomPOlu-YyR5"
      }
    },
    {
      "cell_type": "markdown",
      "source": [
        "# Part V: Data Summary and Implications\n"
      ],
      "metadata": {
        "id": "Mxbuu5_3YzrO"
      }
    },
    {
      "cell_type": "markdown",
      "source": [
        "\n",
        "## F. Findings and Assumptions"
      ],
      "metadata": {
        "id": "7q6uqlACY1OU"
      }
    },
    {
      "cell_type": "markdown",
      "source": [
        "### 1. Analysis Results\n",
        "- Discuss the findings of the data analysis, touching on the reduced model's regression equation, coefficient interpretations, statistical and practical significances, and any limitations."
      ],
      "metadata": {
        "id": "jwl0pIAZY2jw"
      }
    },
    {
      "cell_type": "markdown",
      "source": [
        "### 2. Recommendations\n",
        "- Propose a course of action based on the analysis results"
      ],
      "metadata": {
        "id": "X7khRZPFY4kF"
      }
    },
    {
      "cell_type": "markdown",
      "source": [
        "# Part VI: Demonstration"
      ],
      "metadata": {
        "id": "qJInc1VuY6Sf"
      }
    },
    {
      "cell_type": "markdown",
      "source": [
        "## G. Panopto Video Recording\n",
        "\n",
        " Create and provide a Panopto video recording. The video should:\n",
        "  - Identify the programming environment's version.\n",
        "  - Compare the initial and reduced linear regression models.\n",
        "  - Interpret the coefficients of the refined model."
      ],
      "metadata": {
        "id": "ksO1xhHlY7u7"
      }
    },
    {
      "cell_type": "code",
      "source": [],
      "metadata": {
        "id": "r7tWPopPYQ-o"
      },
      "execution_count": null,
      "outputs": []
    }
  ]
}