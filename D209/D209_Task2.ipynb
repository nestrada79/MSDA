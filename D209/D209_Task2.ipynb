{
  "nbformat": 4,
  "nbformat_minor": 0,
  "metadata": {
    "colab": {
      "provenance": [],
      "authorship_tag": "ABX9TyPiczTxNHOIg03xAKy6hli9",
      "include_colab_link": true
    },
    "kernelspec": {
      "name": "python3",
      "display_name": "Python 3"
    },
    "language_info": {
      "name": "python"
    }
  },
  "cells": [
    {
      "cell_type": "markdown",
      "metadata": {
        "id": "view-in-github",
        "colab_type": "text"
      },
      "source": [
        "<a href=\"https://colab.research.google.com/github/nestrada79/MSDA/blob/main/D209/D209_Task2.ipynb\" target=\"_parent\"><img src=\"https://colab.research.google.com/assets/colab-badge.svg\" alt=\"Open In Colab\"/></a>"
      ]
    },
    {
      "cell_type": "markdown",
      "source": [
        "#D209 Task 2"
      ],
      "metadata": {
        "id": "N7H3MVQFcQYx"
      }
    },
    {
      "cell_type": "markdown",
      "source": [
        "## Part I: Research Question"
      ],
      "metadata": {
        "id": "PQyEDMgOcQdr"
      }
    },
    {
      "cell_type": "markdown",
      "source": [
        "### A. Describe the purpose of this data mining report by doing the following:\n"
      ],
      "metadata": {
        "id": "kpImIx0mcQhm"
      }
    },
    {
      "cell_type": "markdown",
      "source": [
        "#### 1. Propose one question relevant to a real-world organizational situation that you will answer using one of the following prediction methods:\n",
        "\n",
        "- decision trees\n",
        "- random forests\n",
        "- advanced regression (i.e., lasso or ridge regression)"
      ],
      "metadata": {
        "id": "nDg5SfUfcQk3"
      }
    },
    {
      "cell_type": "markdown",
      "source": [
        "> How do various patient demographics and medical factors (like age, gender, BMI, etc.) affect the total medical charges incurred by the patient?\n",
        "\n",
        "This question seeks to understand the determinants of medical costs, which is of great significance to healthcare providers, insurance companies, and patients."
      ],
      "metadata": {
        "id": "69zmyk3D8Tdh"
      }
    },
    {
      "cell_type": "markdown",
      "source": [
        "#### 2. Define one goal of the data analysis. Ensure that your goal is reasonable within the scope of the scenario and is represented in the available data.\n"
      ],
      "metadata": {
        "id": "z5p-pbfAcahj"
      }
    },
    {
      "cell_type": "markdown",
      "source": [
        "- To identify the significant predictors of medical charges.\n",
        "- To quantify the relationship between these predictors and medical charges.\n",
        "- To develop a predictive model that can be used to forecast medical charges based on specific patient demographics and attributes."
      ],
      "metadata": {
        "id": "w9hzSi_28Wnz"
      }
    },
    {
      "cell_type": "markdown",
      "source": [
        "## Part II: Method Justification"
      ],
      "metadata": {
        "id": "GljOMmgKcdeV"
      }
    },
    {
      "cell_type": "markdown",
      "source": [
        "### B. Explain the reasons for your chosen prediction method from part A1 by doing the following:\n"
      ],
      "metadata": {
        "id": "fqcE1Dwdce6q"
      }
    },
    {
      "cell_type": "markdown",
      "source": [
        "#### 1. Explain how the prediction method you chose analyzes the selected data set. Include expected outcomes."
      ],
      "metadata": {
        "id": "brHf0ZI5cgwk"
      }
    },
    {
      "cell_type": "markdown",
      "source": [
        "#### 2. Summarize one assumption of the chosen prediction method."
      ],
      "metadata": {
        "id": "FcdgWfTRciJY"
      }
    },
    {
      "cell_type": "markdown",
      "source": [
        "#### 3. List the packages or libraries you have chosen for Python or R, and justify how each item on the list supports the analysis."
      ],
      "metadata": {
        "id": "R22ewfS5cjh9"
      }
    },
    {
      "cell_type": "markdown",
      "source": [
        "Python Libraries:\n",
        "\n",
        "- pandas: For data handling and manipulation.\n",
        "- numpy: For numerical operations.\n",
        "- scikit-learn: For implementing KNN and preprocessing data.\n",
        "- matplotlib, seaborn: For visualizing data."
      ],
      "metadata": {
        "id": "JEYeYZzm8hNi"
      }
    },
    {
      "cell_type": "markdown",
      "source": [
        "## Part III: Data Preparation"
      ],
      "metadata": {
        "id": "O5PW7Zy8clKE"
      }
    },
    {
      "cell_type": "markdown",
      "source": [
        "### C. Perform data preparation for the chosen data set by doing the following:"
      ],
      "metadata": {
        "id": "0QjeGs4WcnMe"
      }
    },
    {
      "cell_type": "markdown",
      "source": [
        "#### 1. Describe one data preprocessing goal relevant to the prediction method from part A1."
      ],
      "metadata": {
        "id": "eKeekxHVcoxi"
      }
    },
    {
      "cell_type": "markdown",
      "source": [
        "#### 2. Identify the initial data set variables that you will use to perform the analysis for the prediction question from part A1, and group each variable as continuous or categorical."
      ],
      "metadata": {
        "id": "NKpF4V_RcpPC"
      }
    },
    {
      "cell_type": "markdown",
      "source": [
        "## Data Dictionary\n",
        "\n",
        "\n",
        "The data set includes the following information:\n",
        "- Patients who are readmitted to the hospital within a month of release (the \"ReAdmis\" column)\n",
        "- Patient medical conditions (high blood pressure, stroke, obesity, arthritis, diabetes, etc.)\n",
        "- Patient information (service they received while hospitalized, days in hospital, type of initial admission, etc.)\n",
        "- Patient demographic information (gender, age, job, education level, etc.)\n",
        "\n",
        "The data set consists of 10,000 customers and 50 columns/variables. I will only be using 29 of the 50 variables.\n",
        "\n",
        "Note integers are discrete not continious but this question asks the student to define each variable as either continious or categorical. It would be inappropriate to treat all integers in this dataset as nominal categories so some are marked as continious for this reason.\n",
        "\n",
        "\n",
        "| Column              | Description                                                                                                    | Type        | Example                |\n",
        "|---------------------|----------------------------------------------------------------------------------------------------------------|-------------|------------------------|\n",
        "| Population          | Population within a mile radius of the patient, based on census data                                           | Continious     | 11303                  |\n",
        "| Area                | Area type (urban, suburban) based on unofficial census data                                                    | Categorical | Urban                  |\n",
        "| Children            | Number of children in the patient's household as reported in the admissions information                        | Continious     | 1.0                    |\n",
        "| Age                 | Age of the patient as reported in admissions information                                                       | Numeric     | 53.0                   |\n",
        "| Education           | Highest earned degree of the patient as reported in admissions information                                     | Categorical | Some College, Less than 1 Year |\n",
        "| Income              | Annual income of the patient (or primary insurance holder) as reported at the time of admission                | Continious     | 86575.93               |\n",
        "| Marital             | Marital status of the patient (or primary insurance holder) as reported on admission information              | Categorical | Divorce                |\n",
        "| Gender              | Customer self-identification as male, female, or nonbinary                                                     | Categorical | Male                   |\n",
        "| ReAdmis             | Whether the patient was readmitted within a month of release or not                                           | Categorical | No                     |\n",
        "| VitD_levels         | The patient's vitamin D levels as measured in ng/mL                                                            | Continious     | 17.80233               |\n",
        "| Doc_visits          | Number of times the primary physician visited the patient during the initial hospitalization                   | Continious    | 5                      |\n",
        "| Full_meals_eaten    | Number of full meals the patient ate while hospitalized                                                        | Numeric     | 3                      |\n",
        "| VitD_supp           | The number of times that vitamin D supplements were administered to the patient                                | Continious     | 2                      |\n",
        "| Soft_drink          | Whether the patient habitually drinks three or more sodas in a day                                             | Categorical | No                     |\n",
        "| Initial_admin       | The means by which the patient was admitted into the hospital initially                                        | Categorical | Emergency              |\n",
        "| HighBlood           | Whether the patient has high blood pressure                                                                    | Categorical | Yes                    |\n",
        "| Stroke              | Whether the patient has had a stroke                                                                           | Categorical | No                     |\n",
        "| Overweight          | Whether the patient is considered overweight based on age, gender, and height                                  | Categorical | No                     |\n",
        "| Arthritis           | Whether the patient has arthritis                                                                              | Categorical | Yes                    |\n",
        "| Diabetes            | Whether the patient has diabetes                                                                               | Categorical | Yes                    |\n",
        "| Hyperlipidemia      | Whether the patient has hyperlipidemia                                                                         | Categorical | Yes                    |\n",
        "| BackPain            | Whether the patient has chronic back pain                                                                      | Categorical | Yes                    |\n",
        "| Anxiety             | Whether the patient has an anxiety disorder                                                                    | Categorical | Yes                    |\n",
        "| Allergic_rhinitis   | Whether the patient has allergic rhinitis                                                                      | Categorical | Yes                    |\n",
        "| Reflux_esophagitis  | Whether the patient has reflux esophagitis                                                                     | Categorical | No                     |\n",
        "| Asthma              | Whether the patient has asthma                                                                                 | Categorical | No                     |\n",
        "| Services            | Primary service the patient received while hospitalized                                                        | Categorical | Blood Work             |\n",
        "| Initial_days        | The number of days the patient stayed in the hospital during the initial visit                                 | Continious    | 9.058210335            |\n",
        "| TotalCharge         | The amount charged to the patient daily. This value reflects an average per patient based on the total charge divided by the number of days hospitalized. | Continious     | 3533.292197            |\n"
      ],
      "metadata": {
        "id": "QrCRJnW-8zkJ"
      }
    },
    {
      "cell_type": "markdown",
      "source": [
        "#### 3. Explain the steps used to prepare the data for the analysis. Identify the code segment for each step."
      ],
      "metadata": {
        "id": "s2iWvQ53cq1M"
      }
    },
    {
      "cell_type": "markdown",
      "source": [
        "**Preprocessing Data for Analysis **\n",
        "\n",
        "**Data Transformation Goals**:\n",
        "\n",
        "1. **Ensure Data Completeness and Quality**: Ensure that the dataset is free from missing values and duplicates which can skew the analysis.\n",
        "2. **Feature Selection for Relevance**: Exclude variables that do not provide meaningful information in predicting medical charges.\n",
        "3. **Convert Categorical Variables**: Transform categorical variables into a format suitable for regression modeling.\n",
        "4. **Standardize Numerical Variables**: Ensure that numerical variables are on a comparable scale, making coefficients in the regression model interpretable.\n",
        "\n",
        "**Steps Taken**:\n",
        "\n",
        "1. **Data Cleaning**:\n",
        "   - Checked and confirmed that there were no missing values in the dataset.\n",
        "   - Checked for duplicate rows and found none.\n",
        "   - Examined the data types of each column to ensure they align with their expected types.\n",
        "   - Dropped irrelevant columns that were not pertinent to the research question, such as identifiers (`CaseOrder`, `Customer_id`, etc.), geographic details (`City`, `State`, etc.), and other columns like `Additional_charges` and survey items (`Item1` to `Item8`).\n",
        "\n",
        "2. **Encoding Categorical Variables**:\n",
        "   - Identified categorical variables in the dataset, including `Gender`, `MaritalStatus`, and others.\n",
        "   - Used one-hot encoding to transform these categorical variables into binary columns, where each category is represented by a separate column.\n",
        "\n",
        "3. **Scaling Numerical Variables**:\n",
        "   - Identified numerical independent variables such as `Age`, `Income`, and `VitD_levels`.\n",
        "   - Used Standard Scaling to transform these numerical variables, resulting in values with a mean of 0 and a standard deviation of 1. This ensures that all variables are on a comparable scale, which is crucial for interpreting the coefficients in a regression model.\n"
      ],
      "metadata": {
        "id": "oepb9RGe_MVE"
      }
    },
    {
      "cell_type": "code",
      "source": [
        "#Import statements\n",
        "import pandas as pd\n",
        "import matplotlib.pyplot as plt\n",
        "import seaborn as sns\n",
        "import numpy as np\n",
        "from sklearn.preprocessing import StandardScaler\n",
        "from sklearn.model_selection import train_test_split\n",
        "from sklearn.linear_model import LinearRegression\n",
        "from sklearn.metrics import mean_squared_error, r2_score\n",
        "import statsmodels.api as sm\n",
        "\n",
        "# Set the display option to show all columns\n",
        "pd.set_option('display.max_columns', None)"
      ],
      "metadata": {
        "id": "hBXNIPlr-0R5"
      },
      "execution_count": null,
      "outputs": []
    },
    {
      "cell_type": "code",
      "source": [
        "#Load dataset into pandas dataframe\n",
        "#Reloading dataframe at this point to make the cleaning process easier to roll back without having to rerun any previous analysis\n",
        "medical_data = pd.read_csv('/content/medical_clean.csv')"
      ],
      "metadata": {
        "id": "h5L8xsX_-1Gq"
      },
      "execution_count": null,
      "outputs": []
    },
    {
      "cell_type": "code",
      "source": [
        "#Visually inspecting the first 10 rows\n",
        "medical_data.head(10)"
      ],
      "metadata": {
        "id": "hiW8fMzN-5jS"
      },
      "execution_count": null,
      "outputs": []
    },
    {
      "cell_type": "code",
      "source": [
        "# 1. Check for missing values\n",
        "missing_values = medical_data.isnull().sum()\n",
        "missing_values"
      ],
      "metadata": {
        "id": "-qKFfP0W-5rY"
      },
      "execution_count": null,
      "outputs": []
    },
    {
      "cell_type": "code",
      "source": [
        "# 2. Check for duplicates\n",
        "duplicate_rows = medical_data.duplicated().sum()\n",
        "duplicate_rows"
      ],
      "metadata": {
        "id": "fgiEiB2O-5vn"
      },
      "execution_count": null,
      "outputs": []
    },
    {
      "cell_type": "code",
      "source": [
        "# 3. Check data types of columns\n",
        "data_types = medical_data.dtypes\n",
        "data_types"
      ],
      "metadata": {
        "id": "8ml9MnAP-_QP"
      },
      "execution_count": null,
      "outputs": []
    },
    {
      "cell_type": "code",
      "source": [
        "# Compute the correlation matrix for the original dataset\n",
        "correlation_matrix_original = medical_data.corr(numeric_only=True)\n",
        "\n",
        "# Extract correlations of all features with 'TotalCharge' from the original dataset\n",
        "total_charge_correlations_original = correlation_matrix_original['TotalCharge'].sort_values(ascending=False)\n",
        "\n",
        "# Set up the matplotlib figure\n",
        "plt.figure(figsize=(8, 18))\n",
        "\n",
        "# Generate a focused heatmap for the original dataset\n",
        "sns.heatmap(total_charge_correlations_original.to_frame(), cmap='coolwarm', vmin=-1, vmax=1, annot=True, fmt=\".2f\", cbar_kws={'label': 'Correlation with TotalCharge'})\n",
        "\n",
        "# Adjust layout for better visualization\n",
        "plt.title(\"Correlation with TotalCharge (Original Dataset)\")\n",
        "plt.tight_layout()\n",
        "plt.show()"
      ],
      "metadata": {
        "id": "DN_Qomhn_A8K"
      },
      "execution_count": null,
      "outputs": []
    },
    {
      "cell_type": "markdown",
      "source": [
        "- There are no missing values in the dataset.\n",
        "- There are no duplicate rows in the dataset.\n",
        "- The data types seem appropriate for each column, with a mix of numerical (int64 and float64) and categorical (object) data types.<P>\n",
        "\n",
        "- TotalCharge has a very strong positive correlation with **Intial_days** and **CaseOrder**.<br>\n",
        "\n",
        "There are a few columns that are not relevant to the research question so they will need to be dropped. These include **CaseOrder, Customer_id, Interaction, UID, City, State, County, Zip, Lat, Lng, TimeZone**, and **Job**\n",
        "\n",
        "I also will remove **Additional_charges** since this information is already included inside **TotalCharge** so it is already known there will be a relationship between higher additional charges and the total charge.\n",
        "\n",
        "I'm also choosing to drop the **Intial_days** column because based on prior healthcare knowledge I'm making the assumption that the total hospital bill is calculated including a per day charge along with other additional charges so it would be logical to assume that as a patient's stay increases so does their total hospital bill.\n",
        "\n",
        "Also because **Initial_days** is also has a strong positive correlation to **TotalCharge** at 0.99 it is best to drop this column to avoid multicollinearity.\n",
        "\n",
        "**Item1,\tItem2,\tItem3, Item4,\tItem5,\tItem6,\tItem7** and\t**Item8** will also be removed because they are not needed. These are survey items that related to patient satisfaction and logically do not have the ability to affect total charges. While there might be some correlation between patient satisfaction scores and total charges these survey scores do not have the ability to affect the amount a patient is charged.\n"
      ],
      "metadata": {
        "id": "jteam15S_IPa"
      }
    },
    {
      "cell_type": "code",
      "source": [
        "# Dropping irrelevant columns\n",
        "columns_to_drop = ['Initial_days','CaseOrder', 'Customer_id', 'Interaction', 'UID', 'City', 'State', 'County',\n",
        "                   'Zip', 'Lat', 'Lng', 'TimeZone', 'Job','Additional_charges','Item1','Item2','Item3','Item4','Item5','Item6','Item7','Item8']\n",
        "\n",
        "medical_data_cleaned = medical_data.drop(columns=columns_to_drop)"
      ],
      "metadata": {
        "id": "FWchKIBO_FOw"
      },
      "execution_count": null,
      "outputs": []
    },
    {
      "cell_type": "code",
      "source": [
        "\n",
        "# Display the first few rows of the cleaned dataset\n",
        "medical_data_cleaned.head()"
      ],
      "metadata": {
        "id": "5EqGL-28_MoD"
      },
      "execution_count": null,
      "outputs": []
    },
    {
      "cell_type": "code",
      "source": [
        "# One-hot encoding the categorical variables\n",
        "medical_data_encoded = pd.get_dummies(medical_data_cleaned, drop_first=True)  # drop_first=True to avoid the dummy variable trap\n",
        "\n",
        "# Display the first few rows of the encoded dataset\n",
        "medical_data_encoded.head()"
      ],
      "metadata": {
        "id": "i_pXU_aT_7uZ"
      },
      "execution_count": null,
      "outputs": []
    },
    {
      "cell_type": "code",
      "source": [
        "# Initialize the standard scaler\n",
        "scaler = StandardScaler()\n",
        "\n",
        "# Scaling the numerical variables\n",
        "medical_data_encoded[numerical_independent_vars] = scaler.fit_transform(medical_data_encoded[numerical_independent_vars])\n",
        "\n",
        "# Display the first few rows of the scaled dataset\n",
        "medical_data_encoded.head()\n"
      ],
      "metadata": {
        "id": "H0mzcV7g_72F"
      },
      "execution_count": null,
      "outputs": []
    },
    {
      "cell_type": "markdown",
      "source": [
        "#### 4. Provide a copy of the cleaned data set."
      ],
      "metadata": {
        "id": "l-IiLfwyctEa"
      }
    },
    {
      "cell_type": "code",
      "source": [
        "# Save the DataFrame as a CSV file\n",
        "medical_data_encoded.to_csv('medical_data_encoded.csv', index=False)\n"
      ],
      "metadata": {
        "id": "lbFATwYYABMK"
      },
      "execution_count": null,
      "outputs": []
    },
    {
      "cell_type": "markdown",
      "source": [
        "## Part IV: Analysis"
      ],
      "metadata": {
        "id": "VivdsM7vcuTf"
      }
    },
    {
      "cell_type": "markdown",
      "source": [
        "### D. Perform the data analysis and report on the results by doing the following:"
      ],
      "metadata": {
        "id": "nTVhwSQ6cvgK"
      }
    },
    {
      "cell_type": "markdown",
      "source": [
        "#### 1. Split the data into training and test data sets and provide the file(s)."
      ],
      "metadata": {
        "id": "QLm1DuWCcwk8"
      }
    },
    {
      "cell_type": "markdown",
      "source": [
        "#### 2. Describe the analysis technique you used to appropriately analyze the data. Include screenshots of the intermediate calculations you performed."
      ],
      "metadata": {
        "id": "VCG60g9Mcx2i"
      }
    },
    {
      "cell_type": "markdown",
      "source": [
        "#### 3. Provide the code used to perform the prediction analysis from part D2."
      ],
      "metadata": {
        "id": "WONlyY9WczR7"
      }
    },
    {
      "cell_type": "markdown",
      "source": [
        "## Part V: Data Summary and Implications"
      ],
      "metadata": {
        "id": "ToSCJa-Jc0el"
      }
    },
    {
      "cell_type": "markdown",
      "source": [
        "### E. Summarize your data analysis and explain the implications of your findings by doing the following:"
      ],
      "metadata": {
        "id": "n7am56K1c1xu"
      }
    },
    {
      "cell_type": "markdown",
      "source": [
        "#### 1. Provide the answer to the prediction question from part A1."
      ],
      "metadata": {
        "id": "YefA_FSzc29m"
      }
    },
    {
      "cell_type": "markdown",
      "source": [
        "#### 2. Provide the final data output (e.g., data table, data visualization) that supports the answer to the prediction question from part A1."
      ],
      "metadata": {
        "id": "5h-rH7wAc4ch"
      }
    },
    {
      "cell_type": "markdown",
      "source": [
        "#### 3. Explain how the data output from part E2 supports the answer to the prediction question from part A1.\n"
      ],
      "metadata": {
        "id": "GFCrrnpTc5sV"
      }
    },
    {
      "cell_type": "markdown",
      "source": [
        "#### 4. Discuss the implications of the findings from the data analysis in relation to the real-world organizational situation from part A1."
      ],
      "metadata": {
        "id": "wMzCwGEkc65N"
      }
    },
    {
      "cell_type": "markdown",
      "source": [
        "#### 5. Provide one recommendation based on the findings from the data analysis."
      ],
      "metadata": {
        "id": "Xtxn8RLnc8WB"
      }
    },
    {
      "cell_type": "code",
      "source": [],
      "metadata": {
        "id": "x87sa6hdc8s7"
      },
      "execution_count": null,
      "outputs": []
    }
  ]
}